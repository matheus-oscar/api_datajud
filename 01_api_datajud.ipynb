{
 "cells": [
  {
   "cell_type": "markdown",
   "id": "7673b507",
   "metadata": {},
   "source": [
    "# SUMÁRIO\n",
    "\n",
    "- [1. INFOS API DATAJUD](#1-infos-api-datajud)\n",
    "\n",
    "- [EXEMPLOS DE CONSULTA INDIVIDUAL](#testes-consulta-individual)"
   ]
  },
  {
   "cell_type": "markdown",
   "id": "e9bbe38e",
   "metadata": {},
   "source": [
    "### 1. INFOS API DATAJUD"
   ]
  },
  {
   "cell_type": "markdown",
   "id": "bd78c751",
   "metadata": {},
   "source": [
    "#### ENDPOINT\n",
    "\n",
    "- https://api-publica.datajud.cnj.jus.br/api_publica_tjsp/_search"
   ]
  },
  {
   "cell_type": "markdown",
   "id": "61c74104",
   "metadata": {},
   "source": [
    "#### TESTES CONSULTA INDIVIDUAL\n",
    "\n",
    "[VOLTAR AO SUMÁRIO](#sumário)"
   ]
  },
  {
   "cell_type": "markdown",
   "id": "26b07ef6",
   "metadata": {},
   "source": [
    "### 1. CARREGAR PACOTES "
   ]
  },
  {
   "cell_type": "code",
   "execution_count": 4,
   "id": "99bcc3ea",
   "metadata": {},
   "outputs": [],
   "source": [
    "import requests\n",
    "import json\n",
    "import ast\n",
    "\n",
    "import pandas as pd\n",
    "pd.set_option('display.max_rows', 100) \n",
    "import numpy as np\n",
    "\n",
    "import concurrent.futures\n",
    "from time import sleep\n",
    "from tqdm import tqdm"
   ]
  },
  {
   "cell_type": "code",
   "execution_count": 5,
   "id": "b04ecf60",
   "metadata": {},
   "outputs": [],
   "source": [
    "API_KEY = \"cDZHYzlZa0JadVREZDJCendQbXY6SkJlTzNjLV9TRENyQk1RdnFKZGRQdw==\"\n",
    "url = \"https://api-publica.datajud.cnj.jus.br/api_publica_tjsp/_search\"\n",
    "headers = {\n",
    "    'Authorization': f'ApiKey {API_KEY}',\n",
    "    'Content-Type': 'application/json'\n",
    "}\n",
    "\n",
    "def consultar_processo(numero):\n",
    "    payload = json.dumps({\n",
    "        \"query\": {\n",
    "            \"match\": {\n",
    "                \"numeroProcesso\": numero\n",
    "            }\n",
    "        }\n",
    "    })\n",
    "\n",
    "    try:\n",
    "        response = requests.post(url, headers=headers, data=payload, timeout=30)\n",
    "        response.raise_for_status()\n",
    "        data = response.json()\n",
    "\n",
    "        resultados = []\n",
    "        for hit in data.get(\"hits\", {}).get(\"hits\", []):\n",
    "            registro = hit[\"_source\"]\n",
    "            #registro[\"_id\"] = hit.get(\"_id\")\n",
    "            resultados.append(registro)\n",
    "\n",
    "        return resultados\n",
    "\n",
    "    except Exception as e:\n",
    "        print(f\"❌ Erro no processo {numero}: {e}\")\n",
    "        return []\n",
    "\n",
    "def processar_em_lotes(lista, max_threads=5):\n",
    "    todos_resultados = []\n",
    "    with concurrent.futures.ThreadPoolExecutor(max_workers=max_threads) as executor:\n",
    "        futures = {executor.submit(consultar_processo, numero): numero for numero in lista}\n",
    "\n",
    "        for future in tqdm(concurrent.futures.as_completed(futures), total=len(futures)):\n",
    "            resultado = future.result()\n",
    "            todos_resultados.extend(resultado)\n",
    "            sleep(0.1)  \n",
    "\n",
    "    return todos_resultados\n"
   ]
  },
  {
   "cell_type": "code",
   "execution_count": null,
   "id": "b6538a4d",
   "metadata": {},
   "outputs": [],
   "source": [
    "lote001 = pd.read_parquet('./app10/resultado-api/lotes/lote_001.parquet')\n",
    "# lote1200 = pd.read_parquet('./app10/resultado-api/lotes/lote_1200.parquet')"
   ]
  },
  {
   "cell_type": "code",
   "execution_count": null,
   "id": "eced0c53",
   "metadata": {},
   "outputs": [],
   "source": [
    "lote001['movimentos'][0]"
   ]
  },
  {
   "cell_type": "code",
   "execution_count": null,
   "id": "ec5ca6f4",
   "metadata": {},
   "outputs": [],
   "source": [
    "consultar_processo('20501854119928260405')"
   ]
  },
  {
   "cell_type": "code",
   "execution_count": null,
   "id": "31c2ee6a",
   "metadata": {},
   "outputs": [],
   "source": [
    "df = pd.DataFrame(consultar_processo('00014874419948260445'))\n",
    "\n",
    "df.movimentos[0]"
   ]
  },
  {
   "cell_type": "code",
   "execution_count": null,
   "id": "e4c11222",
   "metadata": {},
   "outputs": [],
   "source": [
    "df['movimentos'][0]"
   ]
  },
  {
   "cell_type": "markdown",
   "id": "a6440298",
   "metadata": {},
   "source": [
    "#### 2. Função para expandir colunas com dicionários"
   ]
  },
  {
   "cell_type": "code",
   "execution_count": null,
   "id": "1b8b3793",
   "metadata": {},
   "outputs": [],
   "source": [
    "def expandir_colunas(df, colunas_alvo, chaves=['codigo', 'nome'], como_string=True, separador='|'):\n",
    "    \"\"\"\n",
    "    Expande colunas contendo listas de dicionários (ou dicts), criando novas colunas para cada chave.\n",
    "    Os valores podem ser retornados como listas ou strings separadas por vírgula (default).\n",
    "    Mantém a ordem original das colunas, inserindo as novas logo após a original.\n",
    "    \"\"\"\n",
    "    df_exp = df.copy()\n",
    "    novas_colunas = {}\n",
    "\n",
    "    def extrair_primeiros(lista_ou_dict, chave):\n",
    "        if isinstance(lista_ou_dict, dict):\n",
    "            val = lista_ou_dict.get(chave, None)\n",
    "            return str(val) if como_string else val\n",
    "        elif isinstance(lista_ou_dict, list):\n",
    "            try:\n",
    "                valores = [str(d.get(chave)) for d in lista_ou_dict if isinstance(d, dict)]\n",
    "                return separador.join(valores) if como_string else valores\n",
    "            except:\n",
    "                return None\n",
    "        return None\n",
    "\n",
    "    for col in colunas_alvo:\n",
    "        if col not in df_exp.columns:\n",
    "            continue\n",
    "        valores_expandidos = df_exp[col].apply(lambda x: ast.literal_eval(x) if isinstance(x, str) else x)\n",
    "        for chave in chaves:\n",
    "            nova_coluna = f\"{col}_{chave}\"\n",
    "            # Garante que só cria a coluna uma vez\n",
    "            if nova_coluna not in novas_colunas:\n",
    "                novas_colunas[nova_coluna] = valores_expandidos.apply(lambda v: extrair_primeiros(v, chave))\n",
    "\n",
    "    # Insere as novas colunas logo após cada coluna original\n",
    "    for col in colunas_alvo:\n",
    "        if col not in df_exp.columns:\n",
    "            continue\n",
    "        idx_col = df_exp.columns.get_loc(col)\n",
    "        insert_at = idx_col + 1\n",
    "        for chave in chaves:\n",
    "            nova_coluna = f\"{col}_{chave}\"\n",
    "            if nova_coluna in df_exp.columns:\n",
    "                continue  # Não sobrescreve se já existe\n",
    "            df_exp.insert(insert_at, nova_coluna, novas_colunas[nova_coluna])\n",
    "            insert_at += 1\n",
    "\n",
    "    if 'numeroProcesso' in df_exp.columns:\n",
    "        cols = df_exp.columns.tolist()\n",
    "        cols.remove('numeroProcesso')\n",
    "        df_exp = df_exp[['numeroProcesso'] + cols]\n",
    "\n",
    "\n",
    "    return df_exp"
   ]
  },
  {
   "cell_type": "code",
   "execution_count": null,
   "id": "e20ba8e9",
   "metadata": {},
   "outputs": [],
   "source": [
    "lote001 = pd.read_parquet('./app10/resultado-api/lotes/lote_001.parquet')\n",
    "\n",
    "lote001.head()"
   ]
  },
  {
   "cell_type": "code",
   "execution_count": null,
   "id": "b7595c3f",
   "metadata": {},
   "outputs": [],
   "source": [
    "[lote001.assuntos[i] for i in range(len(lote001))]"
   ]
  },
  {
   "cell_type": "code",
   "execution_count": null,
   "id": "1ff69897",
   "metadata": {},
   "outputs": [],
   "source": [
    "colunas = ['classe', 'sistema', 'formato', 'orgaoJulgador', 'assuntos']\n",
    "df_expandido = expandir_colunas(lote001, colunas)\n",
    "\n",
    "df_expandido.head()"
   ]
  },
  {
   "cell_type": "code",
   "execution_count": null,
   "id": "7614f5e4",
   "metadata": {},
   "outputs": [],
   "source": [
    "df_expandido.columns"
   ]
  },
  {
   "cell_type": "code",
   "execution_count": null,
   "id": "1b4cb0c3",
   "metadata": {},
   "outputs": [],
   "source": [
    "df_expandido[df_expandido['numeroProcesso'] == '10018662020248260411'][['assuntos','assuntos_codigo','assuntos_nome']]"
   ]
  },
  {
   "cell_type": "code",
   "execution_count": null,
   "id": "d3f92a86",
   "metadata": {},
   "outputs": [],
   "source": [
    "lote001.head()"
   ]
  },
  {
   "cell_type": "code",
   "execution_count": null,
   "id": "e91f9757",
   "metadata": {},
   "outputs": [],
   "source": [
    "lote001['movimentos'][0]"
   ]
  },
  {
   "cell_type": "code",
   "execution_count": null,
   "id": "cd538f92",
   "metadata": {},
   "outputs": [],
   "source": [
    "def extrair_movimentos_completos (df: pd.DataFrame) -> pd.DataFrame:\n",
    "    todos_movimentos = []\n",
    "\n",
    "    for _, row in df.iterrows():\n",
    "        processo_id = row.get(\"_id\")\n",
    "        numero_processo = row.get(\"numeroProcesso\")\n",
    "        movimentos = row.get(\"movimentos\")\n",
    "        data_download = row.get(\"data_download\")\n",
    "\n",
    "        if not isinstance(movimentos, (list, np.ndarray)):\n",
    "            continue\n",
    "\n",
    "        for mov in movimentos:\n",
    "            movimento_info = {\n",
    "                \"_id\": processo_id,\n",
    "                \"numeroProcesso\": numero_processo,\n",
    "                \"movimentos_codigo\": mov.get(\"codigo\"),\n",
    "                \"movimentos_nome\": mov.get(\"nome\"),\n",
    "                \"movimentos_dataHora\": mov.get(\"dataHora\"),\n",
    "                \"movimentos_orgaoJulgador\": mov.get(\"orgaoJulgador\"),\n",
    "                \"movimentos_orgaoJulgador_codigoOrgao\": None,\n",
    "                \"movimentos_orgaoJulgador_nomeOrgao\": None,\n",
    "                \"movimentos_complementosTabelados\": None,\n",
    "                \"movimentos_complementosTabelados_codigo\": None,\n",
    "                \"movimentos_complementosTabelados_descricao\": None,\n",
    "                \"movimentos_complementosTabelados_valor\": None,\n",
    "                \"movimentos_complementosTabelados_nome\": None,\n",
    "                \"data_download\": data_download\n",
    "            }\n",
    "\n",
    "            # Orgao julgador (dict)\n",
    "            orgao = mov.get(\"orgaoJulgador\")\n",
    "            if isinstance(orgao, dict):\n",
    "                movimento_info[\"movimentos_orgaoJulgador_codigoOrgao\"] = orgao.get(\"codigoOrgao\")\n",
    "                movimento_info[\"movimentos_orgaoJulgador_nomeOrgao\"] = orgao.get(\"nomeOrgao\")\n",
    "\n",
    "            # Complementos Tabelados (list ou ndarray de dicts)\n",
    "            complementos = mov.get(\"complementosTabelados\")\n",
    "\n",
    "            if isinstance(complementos, np.ndarray):\n",
    "                complementos = complementos.tolist()\n",
    "\n",
    "            if isinstance(complementos, list) and len(complementos) > 0:\n",
    "                for comp in complementos:\n",
    "                    comp_info = movimento_info.copy()\n",
    "                    comp_info[\"movimentos_complementosTabelados\"] = complementos\n",
    "                    comp_info[\"movimentos_complementosTabelados_codigo\"] = comp.get(\"codigo\")\n",
    "                    comp_info[\"movimentos_complementosTabelados_descricao\"] = comp.get(\"descricao\")\n",
    "                    comp_info[\"movimentos_complementosTabelados_valor\"] = comp.get(\"valor\")\n",
    "                    comp_info[\"movimentos_complementosTabelados_nome\"] = comp.get(\"nome\")\n",
    "                    todos_movimentos.append(comp_info)\n",
    "            else:\n",
    "                # Sem complementos, mas ainda queremos registrar o movimento\n",
    "                todos_movimentos.append(movimento_info)\n",
    "\n",
    "    df_movimentos = pd.DataFrame(todos_movimentos)\n",
    "\n",
    "    if not df_movimentos.empty and \"movimentos_dataHora\" in df_movimentos.columns:\n",
    "        df_movimentos[\"movimentos_dataHora\"] = pd.to_datetime(df_movimentos[\"movimentos_dataHora\"], errors=\"coerce\")\n",
    "        ordem_id_original = pd.CategoricalDtype(categories = df['_id'].to_list(),ordered=True)\n",
    "        df_movimentos['_id'] = df_movimentos['_id'].astype(ordem_id_original)\n",
    "\n",
    "        df_movimentos = df_movimentos.sort_values(by=['_id', \"movimentos_dataHora\"], ascending=[True,False])\n",
    "        \n",
    "        df_movimentos = df_movimentos.reset_index(drop=True)\n",
    "    \n",
    "    return df_movimentos\n"
   ]
  },
  {
   "cell_type": "code",
   "execution_count": null,
   "id": "0d85464e",
   "metadata": {},
   "outputs": [],
   "source": [
    "lote001.iloc[[0]]"
   ]
  },
  {
   "cell_type": "code",
   "execution_count": null,
   "id": "a31847f5",
   "metadata": {},
   "outputs": [],
   "source": [
    "lote001.iloc[[0]].movimentos[0]"
   ]
  },
  {
   "cell_type": "code",
   "execution_count": 1,
   "id": "b361ecd0",
   "metadata": {},
   "outputs": [
    {
     "ename": "NameError",
     "evalue": "name 'pd' is not defined",
     "output_type": "error",
     "traceback": [
      "\u001b[31m---------------------------------------------------------------------------\u001b[39m",
      "\u001b[31mNameError\u001b[39m                                 Traceback (most recent call last)",
      "\u001b[36mCell\u001b[39m\u001b[36m \u001b[39m\u001b[32mIn[1]\u001b[39m\u001b[32m, line 1\u001b[39m\n\u001b[32m----> \u001b[39m\u001b[32m1\u001b[39m \u001b[38;5;28;01mdef\u001b[39;00m\u001b[38;5;250m \u001b[39m\u001b[34mextrair_movimentos_completos\u001b[39m (df: \u001b[43mpd\u001b[49m.DataFrame) -> pd.DataFrame:\n\u001b[32m      2\u001b[39m     todos_movimentos = []\n\u001b[32m      4\u001b[39m     \u001b[38;5;28;01mfor\u001b[39;00m _, row \u001b[38;5;129;01min\u001b[39;00m df.iterrows():\n",
      "\u001b[31mNameError\u001b[39m: name 'pd' is not defined"
     ]
    }
   ],
   "source": [
    "def extrair_movimentos_completos (df: pd.DataFrame) -> pd.DataFrame:\n",
    "    todos_movimentos = []\n",
    "\n",
    "    for _, row in df.iterrows():\n",
    "        processo_id = row.get(\"_id\")\n",
    "        numero_processo = row.get(\"numeroProcesso\")\n",
    "        movimentos = row.get(\"movimentos\")\n",
    "        data_download = row.get(\"data_download\")\n",
    "\n",
    "        if not isinstance(movimentos, (list, np.ndarray)):\n",
    "            continue\n",
    "\n",
    "        for mov in movimentos:\n",
    "            movimento_info = {\n",
    "                \"_id\": processo_id,\n",
    "                \"numeroProcesso\": numero_processo,\n",
    "                \"movimentos_codigo\": mov.get(\"codigo\"),\n",
    "                \"movimentos_nome\": mov.get(\"nome\"),\n",
    "                \"movimentos_dataHora\": mov.get(\"dataHora\"),\n",
    "                \"movimentos_orgaoJulgador\": mov.get(\"orgaoJulgador\"),\n",
    "                \"movimentos_orgaoJulgador_codigoOrgao\": None,\n",
    "                \"movimentos_orgaoJulgador_nomeOrgao\": None,\n",
    "                \"movimentos_complementosTabelados\": None,\n",
    "                \"movimentos_complementosTabelados_codigo\": None,\n",
    "                \"movimentos_complementosTabelados_descricao\": None,\n",
    "                \"movimentos_complementosTabelados_valor\": None,\n",
    "                \"movimentos_complementosTabelados_nome\": None,\n",
    "                \"data_download\": data_download\n",
    "            }\n",
    "\n",
    "            # Orgao julgador (dict)\n",
    "            orgao = mov.get(\"orgaoJulgador\")\n",
    "            if isinstance(orgao, dict):\n",
    "                movimento_info[\"movimentos_orgaoJulgador_codigoOrgao\"] = orgao.get(\"codigoOrgao\")\n",
    "                movimento_info[\"movimentos_orgaoJulgador_nomeOrgao\"] = orgao.get(\"nomeOrgao\")\n",
    "\n",
    "            # Complementos Tabelados (list ou ndarray de dicts)\n",
    "            complementos = mov.get(\"complementosTabelados\")\n",
    "\n",
    "            if isinstance(complementos, np.ndarray):\n",
    "                complementos = complementos.tolist()\n",
    "\n",
    "            if isinstance(complementos, list) and len(complementos) > 0:\n",
    "                for comp in complementos:\n",
    "                    comp_info = movimento_info.copy()\n",
    "                    comp_info[\"movimentos_complementosTabelados\"] = complementos\n",
    "                    comp_info[\"movimentos_complementosTabelados_codigo\"] = comp.get(\"codigo\")\n",
    "                    comp_info[\"movimentos_complementosTabelados_descricao\"] = comp.get(\"descricao\")\n",
    "                    comp_info[\"movimentos_complementosTabelados_valor\"] = comp.get(\"valor\")\n",
    "                    comp_info[\"movimentos_complementosTabelados_nome\"] = comp.get(\"nome\")\n",
    "                    todos_movimentos.append(comp_info)\n",
    "            else:\n",
    "                # Sem complementos, mas ainda queremos registrar o movimento\n",
    "                todos_movimentos.append(movimento_info)\n",
    "\n",
    "    df_movimentos = pd.DataFrame(todos_movimentos)\n",
    "\n",
    "    if not df_movimentos.empty and \"movimentos_dataHora\" in df_movimentos.columns:\n",
    "        df_movimentos[\"movimentos_dataHora\"] = pd.to_datetime(df_movimentos[\"movimentos_dataHora\"], errors=\"coerce\")\n",
    "        ordem_id_original = pd.CategoricalDtype(categories = df['_id'].to_list(),ordered=True)\n",
    "        df_movimentos['_id'] = df_movimentos['_id'].astype(ordem_id_original)\n",
    "\n",
    "        df_movimentos = df_movimentos.sort_values(by=['_id', \"movimentos_dataHora\"], ascending=[True,False])\n",
    "        \n",
    "        df_movimentos = df_movimentos.reset_index(drop=True)\n",
    "    \n",
    "    return df_movimentos"
   ]
  },
  {
   "cell_type": "code",
   "execution_count": null,
   "id": "719137a9",
   "metadata": {},
   "outputs": [],
   "source": [
    "df_movs = extrair_movimentos_completos(df)\n",
    "df_movs[['_id','numeroProcesso','movimentos_dataHora','movimentos_nome']].sort_values(by=['movimentos_dataHora'], ascending=True).head(5)\n"
   ]
  },
  {
   "cell_type": "code",
   "execution_count": null,
   "id": "1024e769",
   "metadata": {},
   "outputs": [],
   "source": [
    "df_movs[['_id','numeroProcesso','movimentos_dataHora','movimentos_nome']].head(5)"
   ]
  },
  {
   "cell_type": "code",
   "execution_count": null,
   "id": "fe567b35",
   "metadata": {},
   "outputs": [],
   "source": [
    "df['movimentos'][0]"
   ]
  },
  {
   "cell_type": "code",
   "execution_count": null,
   "id": "10692a8e",
   "metadata": {},
   "outputs": [],
   "source": [
    "df_movs.groupby('_id').size().reset_index(name='quantidade_movimentos').sort_values(by='quantidade_movimentos', ascending=False)\n"
   ]
  },
  {
   "cell_type": "code",
   "execution_count": null,
   "id": "74f0c333",
   "metadata": {},
   "outputs": [],
   "source": [
    "lote001['movimentos'][0]"
   ]
  },
  {
   "cell_type": "markdown",
   "id": "2864f616",
   "metadata": {},
   "source": []
  },
  {
   "cell_type": "code",
   "execution_count": null,
   "id": "5a8a37e8",
   "metadata": {},
   "outputs": [],
   "source": [
    "df_movs[df_movs['_id'] == 'TJSP_JE_15019982920248260408'].info()"
   ]
  },
  {
   "cell_type": "code",
   "execution_count": null,
   "id": "1edcc31e",
   "metadata": {},
   "outputs": [],
   "source": [
    "lote001[lote001['_id'] == 'TJSP_JE_15019982920248260408'][['movimentos']]"
   ]
  },
  {
   "cell_type": "code",
   "execution_count": null,
   "id": "c1327eb2",
   "metadata": {},
   "outputs": [],
   "source": [
    "df_movs[df_movs['_id'] == 'TJSP_JE_15019982920248260408']"
   ]
  },
  {
   "cell_type": "markdown",
   "id": "ecced4da",
   "metadata": {},
   "source": [
    "### DEPURANDO FUNÇÃO PARA EXTRAÇÃO DOS MOVIMENTOS"
   ]
  },
  {
   "cell_type": "code",
   "execution_count": null,
   "id": "892d6337",
   "metadata": {},
   "outputs": [],
   "source": [
    "df_movs.shape"
   ]
  },
  {
   "cell_type": "markdown",
   "id": "a5b0a70f",
   "metadata": {},
   "source": [
    "#### 1. Verificar colunas esperadas"
   ]
  },
  {
   "cell_type": "code",
   "execution_count": null,
   "id": "fd589856",
   "metadata": {},
   "outputs": [],
   "source": [
    "colunas_esperadas = [\n",
    "    \"_id\",\n",
    "    \"movimentos_codigo\",\n",
    "    \"movimentos_nome\",\n",
    "    \"movimentos_dataHora\",\n",
    "    \"movimentos_complementosTabelados\",\n",
    "    \"movimentos_complementosTabelados_codigo\",\n",
    "    \"movimentos_complementosTabelados_descricao\",\n",
    "    \"movimentos_complementosTabelados_valor\",\n",
    "    \"movimentos_complementosTabelados_nome\",\n",
    "    \"movimentos_orgaoJulgador\",\n",
    "    \"movimentos_orgaoJulgador_codigoOrgao\",\n",
    "    \"movimentos_orgaoJulgador_nomeOrgao\",\n",
    "]\n",
    "\n",
    "colunas_faltantes = set(colunas_esperadas) - set(df_movs.columns)\n",
    "\n",
    "print(\"Colunas faltantes:\", colunas_faltantes if colunas_faltantes else \"Nenhuma\")\n",
    "\n"
   ]
  },
  {
   "cell_type": "markdown",
   "id": "fa5f1948",
   "metadata": {},
   "source": [
    "#### 2. Verificar tipos de dados\n"
   ]
  },
  {
   "cell_type": "code",
   "execution_count": null,
   "id": "a584aa1a",
   "metadata": {},
   "outputs": [],
   "source": [
    "print(df_movs.dtypes)\n"
   ]
  },
  {
   "cell_type": "markdown",
   "id": "7284dac7",
   "metadata": {},
   "source": [
    "#### 3. Inspecionar valores não nulos por coluna\n",
    "\n",
    "- Checar se algum campo está completamente vazio"
   ]
  },
  {
   "cell_type": "code",
   "execution_count": null,
   "id": "71f09dcd",
   "metadata": {},
   "outputs": [],
   "source": [
    "print(df_movs.notnull().sum())\n"
   ]
  },
  {
   "cell_type": "markdown",
   "id": "45b78bc6",
   "metadata": {},
   "source": [
    "#### 4. Exibir exemplos onde complementos foram extraídos"
   ]
  },
  {
   "cell_type": "code",
   "execution_count": null,
   "id": "7e150a41",
   "metadata": {},
   "outputs": [],
   "source": [
    "df_movs[df_movs[\"movimentos_complementosTabelados\"].notnull()]\n"
   ]
  },
  {
   "cell_type": "markdown",
   "id": "22c1d7eb",
   "metadata": {},
   "source": [
    "#### 5. Verificar valores únicos para campos categóricos"
   ]
  },
  {
   "cell_type": "code",
   "execution_count": null,
   "id": "ee34e579",
   "metadata": {},
   "outputs": [],
   "source": [
    "print(df_movs[\"movimentos_nome\"].unique())\n",
    "print(df_movs[\"movimentos_complementosTabelados_nome\"].unique())\n"
   ]
  },
  {
   "cell_type": "markdown",
   "id": "73567722",
   "metadata": {},
   "source": [
    "#### 6. Verificar casos com dados aninhados incompletos ou malformados"
   ]
  },
  {
   "cell_type": "code",
   "execution_count": null,
   "id": "f90dd0ee",
   "metadata": {},
   "outputs": [],
   "source": [
    "df_movs[\n",
    "    df_movs[\"movimentos_complementosTabelados\"].notnull() &\n",
    "    df_movs[\"movimentos_complementosTabelados_codigo\"].isnull()\n",
    "]\n"
   ]
  },
  {
   "cell_type": "markdown",
   "id": "e4e2ae5b",
   "metadata": {},
   "source": [
    "####  7. Contar registros totais e com complementos"
   ]
  },
  {
   "cell_type": "code",
   "execution_count": null,
   "id": "dd664a8d",
   "metadata": {},
   "outputs": [],
   "source": [
    "print(\"Total de movimentos extraídos:\", len(df_movs))\n",
    "print(\"Com complementos:\", df_movs[\"movimentos_complementosTabelados\"].notnull().sum())\n"
   ]
  },
  {
   "cell_type": "markdown",
   "id": "7118381f",
   "metadata": {},
   "source": [
    "#### 8. Verificar se há valores inconsistentes"
   ]
  },
  {
   "cell_type": "code",
   "execution_count": null,
   "metadata": {},
   "outputs": [],
   "source": [
    "df_movs[\n",
    "    df_movs[\"movimentos_complementosTabelados\"].notnull() &\n",
    "    df_movs[\"movimentos_complementosTabelados_codigo\"].isnull() &\n",
    "    df_movs[\"movimentos_complementosTabelados_nome\"].isnull()\n",
    "]\n"
   ]
  },
  {
   "cell_type": "markdown",
   "id": "2fec6083",
   "metadata": {},
   "source": [
    "### Variação extração movimentos \n",
    "\n",
    "Extração dos campos\n",
    "\n",
    "- movimentos.orgaoJulgador\t\n",
    "- movimentos.orgaoJulgador.codigoOrgao\n",
    "- movimentos.orgaoJulgador.nomeOrgao\t"
   ]
  },
  {
   "cell_type": "code",
   "execution_count": null,
   "id": "a6f71c61",
   "metadata": {},
   "outputs": [],
   "source": [
    "def extrair_movimentos2(df: pd.DataFrame) -> pd.DataFrame:\n",
    "    \"\"\"Extrai campos dos movimentos processuais, incluindo orgaoJulgador e complementosTabelados.\"\"\"\n",
    "\n",
    "    movimentos = df[[\"_id\", \"movimentos\"]].explode(\"movimentos\").reset_index(drop=True)\n",
    "\n",
    "    movimentos[\"movimentos_codigo\"] = movimentos[\"movimentos\"].apply(lambda x: x.get(\"codigo\") if isinstance(x, dict) else None)\n",
    "    movimentos[\"movimentos_nome\"] = movimentos[\"movimentos\"].apply(lambda x: x.get(\"nome\") if isinstance(x, dict) else None)\n",
    "    movimentos[\"movimentos_dataHora\"] = movimentos[\"movimentos\"].apply(lambda x: x.get(\"dataHora\") if isinstance(x, dict) else None)\n",
    "\n",
    "    # ✅ Extraindo o dicionário bruto do orgaoJulgador\n",
    "    movimentos[\"movimentos_orgaoJulgador\"] = movimentos[\"movimentos\"].apply(\n",
    "        lambda x: x.get(\"orgaoJulgador\") if isinstance(x, dict) else None\n",
    "    )\n",
    "\n",
    "    # 🔍 Extraindo os subcampos\n",
    "    movimentos[\"movimentos_orgaoJulgador_codigoOrgao\"] = movimentos[\"movimentos_orgaoJulgador\"].apply(\n",
    "        lambda x: x.get(\"codigoOrgao\") if isinstance(x, dict) else None\n",
    "    )\n",
    "    movimentos[\"movimentos_orgaoJulgador_nomeOrgao\"] = movimentos[\"movimentos_orgaoJulgador\"].apply(\n",
    "        lambda x: x.get(\"nomeOrgao\") if isinstance(x, dict) else None\n",
    "    )\n",
    "\n",
    "    # ✅ ComplementosTabelados\n",
    "    movimentos[\"movimentos_complementosTabelados\"] = movimentos[\"movimentos\"].apply(\n",
    "        lambda x: x.get(\"complementosTabelados\") if isinstance(x, dict) else None\n",
    "    )\n",
    "\n",
    "    movimentos = movimentos.explode(\"movimentos_complementosTabelados\").reset_index(drop=True)\n",
    "\n",
    "    movimentos[\"movimentos_complementosTabelados_codigo\"] = movimentos[\"movimentos_complementosTabelados\"].apply(\n",
    "        lambda x: x.get(\"codigo\") if isinstance(x, dict) else None\n",
    "    )\n",
    "    movimentos[\"movimentos_complementosTabelados_descricao\"] = movimentos[\"movimentos_complementosTabelados\"].apply(\n",
    "        lambda x: x.get(\"descricao\") if isinstance(x, dict) else None\n",
    "    )\n",
    "    movimentos[\"movimentos_complementosTabelados_valor\"] = movimentos[\"movimentos_complementosTabelados\"].apply(\n",
    "        lambda x: x.get(\"valor\") if isinstance(x, dict) else None\n",
    "    )\n",
    "    movimentos[\"movimentos_complementosTabelados_nome\"] = movimentos[\"movimentos_complementosTabelados\"].apply(\n",
    "        lambda x: x.get(\"nome\") if isinstance(x, dict) else None\n",
    "    )\n",
    "\n",
    "    # 🎯 Selecionando apenas as colunas desejadas\n",
    "    colunas_finais = [\n",
    "        \"_id\",\n",
    "        \"movimentos_codigo\",\n",
    "        \"movimentos_nome\",\n",
    "        \"movimentos_dataHora\",\n",
    "        \"movimentos_orgaoJulgador\",\n",
    "        \"movimentos_orgaoJulgador_codigoOrgao\",\n",
    "        \"movimentos_orgaoJulgador_nomeOrgao\",\n",
    "        \"movimentos_complementosTabelados\",\n",
    "        \"movimentos_complementosTabelados_codigo\",\n",
    "        \"movimentos_complementosTabelados_descricao\",\n",
    "        \"movimentos_complementosTabelados_valor\",\n",
    "        \"movimentos_complementosTabelados_nome\"\n",
    "    ]\n",
    "\n",
    "    return movimentos[colunas_finais]\n"
   ]
  },
  {
   "cell_type": "code",
   "execution_count": null,
   "id": "8d2ce251",
   "metadata": {},
   "outputs": [],
   "source": [
    "df = extrair_movimentos2(lote001)"
   ]
  },
  {
   "cell_type": "code",
   "execution_count": null,
   "id": "2efbceef",
   "metadata": {},
   "outputs": [],
   "source": [
    "df"
   ]
  },
  {
   "cell_type": "code",
   "execution_count": null,
   "id": "f2d9850d",
   "metadata": {},
   "outputs": [],
   "source": [
    "df.columns"
   ]
  },
  {
   "cell_type": "code",
   "execution_count": null,
   "id": "641b37a4",
   "metadata": {},
   "outputs": [],
   "source": [
    "df.shape"
   ]
  },
  {
   "cell_type": "code",
   "execution_count": null,
   "id": "eaa51828",
   "metadata": {},
   "outputs": [],
   "source": [
    "print(df.notnull().sum())"
   ]
  },
  {
   "cell_type": "code",
   "execution_count": null,
   "id": "55ffb7c5",
   "metadata": {},
   "outputs": [],
   "source": [
    "# Verifica se ao menos um movimento possui 'orgaoJulgador'\n",
    "existe_orgaoJulgador = lote001['movimentos'].explode().dropna().apply(\n",
    "    lambda x: isinstance(x, dict) and 'orgaoJulgador' in x\n",
    ").sum()\n",
    "\n",
    "print(f\"Número de movimentos com 'orgaoJulgador': {existe_orgaoJulgador}\")\n"
   ]
  }
 ],
 "metadata": {
  "kernelspec": {
   "display_name": "venv",
   "language": "python",
   "name": "python3"
  },
  "language_info": {
   "codemirror_mode": {
    "name": "ipython",
    "version": 3
   },
   "file_extension": ".py",
   "mimetype": "text/x-python",
   "name": "python",
   "nbconvert_exporter": "python",
   "pygments_lexer": "ipython3",
   "version": "3.12.10"
  }
 },
 "nbformat": 4,
 "nbformat_minor": 5
}
