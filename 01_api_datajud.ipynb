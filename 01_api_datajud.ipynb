{
 "cells": [
  {
   "cell_type": "markdown",
   "id": "7673b507",
   "metadata": {},
   "source": [
    "# SUMÁRIO\n",
    "\n",
    "- [1. INFOS API DATAJUD](#1-infos-api-datajud)\n",
    "\n",
    "- [EXEMPLOS DE CONSULTA INDIVIDUAL](#testes-consulta-individual)"
   ]
  },
  {
   "cell_type": "markdown",
   "id": "e9bbe38e",
   "metadata": {},
   "source": [
    "### 1. INFOS API DATAJUD"
   ]
  },
  {
   "cell_type": "markdown",
   "id": "bd78c751",
   "metadata": {},
   "source": [
    "#### ENDPOINT\n",
    "\n",
    "- https://api-publica.datajud.cnj.jus.br/api_publica_tjsp/_search"
   ]
  },
  {
   "cell_type": "markdown",
   "id": "55d3be71",
   "metadata": {},
   "source": [
    "#### AVALIAÇÃO DE LOTES COM PROBLEMA"
   ]
  },
  {
   "cell_type": "code",
   "execution_count": null,
   "id": "2882266f",
   "metadata": {},
   "outputs": [],
   "source": [
    "import streamlit as st\n",
    "import pandas as pd\n",
    "from time import time, sleep\n",
    "from concurrent.futures import ThreadPoolExecutor, as_completed\n",
    "import requests\n",
    "import json\n",
    "import os\n",
    "from datetime import datetime\n",
    "\n",
    "def consultar_processo(numero, url, headers, max_retries=3, delay=1.0):\n",
    "    payload = json.dumps({\"query\": {\"match\": {\"numeroProcesso\": numero}}})\n",
    "    for tentativa in range(1, max_retries + 1):\n",
    "        try:\n",
    "            response = requests.post(url, headers=headers, data=payload, timeout=20)\n",
    "            response.raise_for_status()\n",
    "            data = response.json()\n",
    "            hits = data.get(\"hits\", {}).get(\"hits\", [])\n",
    "            registros = []\n",
    "            for hit in hits:\n",
    "                registro = hit[\"_source\"]\n",
    "                registro[\"_id\"] = hit.get(\"_id\")\n",
    "                registros.append(registro)\n",
    "            sleep(delay)\n",
    "            return (numero, registros, None)\n",
    "        except Exception as e:\n",
    "            if tentativa < max_retries:\n",
    "                sleep(delay)\n",
    "            else:\n",
    "                return (numero, None, f\"Tentativas esgotadas ({tentativa}): {e}\")\n",
    "\n",
    "def inspecionar_lote(lista_numeros, url, headers, lote_idx=0, n_threads=5):\n",
    "    from pprint import pprint\n",
    "\n",
    "    print(f\"🔍 Inspecionando lote {lote_idx} com {len(lista_numeros)} processos...\")\n",
    "    resultados_brutos = []\n",
    "\n",
    "    with ThreadPoolExecutor(max_workers=n_threads) as executor:\n",
    "        futures = {executor.submit(consultar_processo, numero, url, headers): numero for numero in lista_numeros}\n",
    "        for future in as_completed(futures):\n",
    "            numero = futures[future]\n",
    "            try:\n",
    "                _, registros, erro = future.result()\n",
    "                if erro:\n",
    "                    print(f\"Erro no processo {numero}: {erro}\")\n",
    "                elif registros:\n",
    "                    print(f\"\\n📄 Processo: {numero}\")\n",
    "                    for r in registros:\n",
    "                        print(\"🔸 Registro bruto:\")\n",
    "                        pprint(r)\n",
    "                        print(\"-\" * 60)\n",
    "                    resultados_brutos.extend(registros)\n",
    "                else:\n",
    "                    print(f\"Processo {numero} não retornou dados.\")\n",
    "            except Exception as e:\n",
    "                print(f\"Erro inesperado no processo {numero}: {e}\")\n",
    "\n",
    "    print(f\"\\n✅ Total de registros brutos: {len(resultados_brutos)}\")\n",
    "    return resultados_brutos\n",
    "\n",
    "\n",
    "\n",
    "def extrair_nomes_processo(lista_processos):\n",
    "    resultados = []\n",
    "    for processo in lista_processos:\n",
    "        item = {}\n",
    "        item['numeroProcesso'] = processo.get('numeroProcesso', None)\n",
    "\n",
    "        # Extrair nome da classe\n",
    "        classe = processo.get('classe', {})\n",
    "        item['classe_nome'] = classe.get('nome') if isinstance(classe, dict) else None\n",
    "\n",
    "        # Extrair nome do sistema\n",
    "        sistema = processo.get('sistema', {})\n",
    "        item['sistema_nome'] = sistema.get('nome') if isinstance(sistema, dict) else None\n",
    "\n",
    "        # Extrair nome do formato\n",
    "        formato = processo.get('formato', {})\n",
    "        item['formato_nome'] = formato.get('nome') if isinstance(formato, dict) else None\n",
    "\n",
    "        # Extrair nome do órgão julgador\n",
    "        orgao = processo.get('orgaoJulgador', {})\n",
    "        item['orgaoJulgador_nome'] = orgao.get('nome') if isinstance(orgao, dict) else None\n",
    "\n",
    "        # Extrair lista de nomes dos assuntos\n",
    "        assuntos = processo.get('assuntos', [])\n",
    "        if isinstance(assuntos, list):\n",
    "            item['assuntos_nome'] = [a.get('nome') for a in assuntos if isinstance(a, dict)]\n",
    "        else:\n",
    "            item['assuntos_nome'] = []\n",
    "\n",
    "        # Extrair lista de nomes dos movimentos\n",
    "        movimentos = processo.get('movimentos', [])\n",
    "        if isinstance(movimentos, list):\n",
    "            item['movimentos_nome'] = [m.get('nome') for m in movimentos if isinstance(m, dict)]\n",
    "        else:\n",
    "            item['movimentos_nome'] = []\n",
    "\n",
    "        resultados.append(item)\n",
    "\n",
    "    return resultados\n",
    "\n",
    "def verificar_nomes_invalidos(lista_resultados):\n",
    "    invalidos = []\n",
    "    for i, item in enumerate(lista_resultados):\n",
    "        # considera inválido se todos os campos de nome forem vazios\n",
    "        campos = ['classe_nome', 'sistema_nome', 'formato_nome', 'orgaoJulgador_nome']\n",
    "        if all(not item.get(c) for c in campos):\n",
    "            invalidos.append((i, item['numeroProcesso']))\n",
    "    return invalidos\n",
    "\n"
   ]
  },
  {
   "cell_type": "code",
   "execution_count": null,
   "id": "4935acfd",
   "metadata": {},
   "outputs": [],
   "source": [
    "# Carregue os processos do lote 7366 (ou outro qualquer)\n",
    "df_proc = pd.read_parquet(\"app10/dados-processos/tjsp_processos.parquet\")\n",
    "# lista_total = df_proc[\"Processo\"].tolist()\n",
    "# lote_idx = 7366\n",
    "# batch_size = 100\n",
    "\n",
    "# # Pegue os processos daquele lote\n",
    "# inicio = (lote_idx - 1) * batch_size\n",
    "# fim = inicio + batch_size\n",
    "# lote_numeros = lista_total[inicio:fim]\n",
    "\n",
    "# # Use a função de inspeção\n",
    "# url = \"https://api-publica.datajud.cnj.jus.br/api_publica_tjsp/_search\"\n",
    "# headers = {\n",
    "#     'Authorization': 'ApiKey cDZHYzlZa0JadVREZDJCendQbXY6SkJlTzNjLV9TRENyQk1RdnFKZGRQdw==',\n",
    "#     'Content-Type': 'application/json'\n",
    "# }\n",
    "# inspecionar_lote(lote_numeros, url, headers, lote_idx)\n"
   ]
  },
  {
   "cell_type": "code",
   "execution_count": null,
   "id": "8ff2fc15",
   "metadata": {},
   "outputs": [],
   "source": [
    "lista_total = df_proc[\"Processo\"].tolist()\n",
    "lote_idx = 7366\n",
    "batch_size = 100\n",
    "\n",
    "# Pegue os processos daquele lote\n",
    "inicio = (lote_idx - 1) * batch_size\n",
    "fim = inicio + batch_size\n",
    "lote_numeros = lista_total[inicio:fim]\n",
    "\n",
    "# Use a função de inspeção\n",
    "url = \"https://api-publica.datajud.cnj.jus.br/api_publica_tjsp/_search\"\n",
    "headers = {\n",
    "    'Authorization': 'ApiKey cDZHYzlZa0JadVREZDJCendQbXY6SkJlTzNjLV9TRENyQk1RdnFKZGRQdw==',\n",
    "    'Content-Type': 'application/json'\n",
    "}\n",
    "\n",
    "teste = inspecionar_lote(lote_numeros, url, headers, lote_idx)"
   ]
  },
  {
   "cell_type": "code",
   "execution_count": null,
   "id": "ece639a5",
   "metadata": {},
   "outputs": [],
   "source": [
    "lote_idx = 1\n",
    "batch_size = 100\n",
    "\n",
    "# Pegue os processos daquele lote\n",
    "inicio = (lote_idx - 1) * batch_size\n",
    "fim = inicio + batch_size\n",
    "lote_numeros = lista_total[inicio:fim]\n",
    "\n",
    "teste_lote1 = inspecionar_lote(lote_numeros, url, headers, lote_idx)"
   ]
  },
  {
   "cell_type": "code",
   "execution_count": null,
   "id": "a999bb16",
   "metadata": {},
   "outputs": [],
   "source": [
    "resultado_lote1 = extrair_nomes_processo(teste_lote1)"
   ]
  },
  {
   "cell_type": "markdown",
   "id": "294e99bb",
   "metadata": {},
   "source": [
    "#### PROCESSOS NOVOS"
   ]
  },
  {
   "cell_type": "code",
   "execution_count": null,
   "id": "6fb5c194",
   "metadata": {},
   "outputs": [],
   "source": [
    "import pandas as pd\n",
    "\n",
    "novos = pd.read_csv('./app7/dados-agrupados/TJSP_CN.csv', sep=\";\")"
   ]
  },
  {
   "cell_type": "code",
   "execution_count": null,
   "id": "4a32ec9c",
   "metadata": {},
   "outputs": [],
   "source": [
    "import pandas as pd\n",
    "\n",
    "chunks = []\n",
    "\n",
    "for chunk in pd.read_csv(\"app7/dados-agrupados/TJSP_CN.csv\", sep=\";\", chunksize=500_000, low_memory=False):\n",
    "    chunks.append(chunk)\n",
    "\n",
    "novos = pd.concat(chunks, ignore_index=True)\n",
    "\n",
    "print(novos.shape)"
   ]
  },
  {
   "cell_type": "code",
   "execution_count": null,
   "id": "94869c7d",
   "metadata": {},
   "outputs": [],
   "source": [
    "novos.head(3)"
   ]
  },
  {
   "cell_type": "code",
   "execution_count": null,
   "id": "a358a427",
   "metadata": {},
   "outputs": [],
   "source": [
    "proc_novos = novos[[\"Processo\"]].copy()\n",
    "\n",
    "proc_novos[\"Processo\"] = proc_novos[\"Processo\"].str.replace(r\"[-.]\", \"\", regex=True)\n",
    "proc_novos = proc_novos[~proc_novos[\"Processo\"].str.contains(\"sigiloso\", case=False, na=False)]\n",
    "\n",
    "lista_novos = proc_novos[\"Processo\"].dropna().drop_duplicates().tolist()\n"
   ]
  },
  {
   "cell_type": "code",
   "execution_count": null,
   "id": "49b0e388",
   "metadata": {},
   "outputs": [],
   "source": [
    "import requests\n",
    "import json\n",
    "import pandas as pd\n",
    "import concurrent.futures\n",
    "from time import sleep\n",
    "from tqdm import tqdm\n",
    "\n",
    "API_KEY = \"cDZHYzlZa0JadVREZDJCendQbXY6SkJlTzNjLV9TRENyQk1RdnFKZGRQdw==\"\n",
    "url = \"https://api-publica.datajud.cnj.jus.br/api_publica_tjsp/_search\"\n",
    "headers = {\n",
    "    'Authorization': f'ApiKey {API_KEY}',\n",
    "    'Content-Type': 'application/json'\n",
    "}\n",
    "\n",
    "payload = json.dumps({\n",
    "    \"query\": {\n",
    "        \"match\": {\n",
    "            \"numeroProcesso\": \"10008232820228260408\"\n",
    "            }\n",
    "            }\n",
    "        })\n",
    "\n",
    "response = requests.post(url, headers=headers, data=payload, timeout=30)\n",
    "\n",
    "data = response.json()\n"
   ]
  },
  {
   "cell_type": "code",
   "execution_count": null,
   "id": "9e538856",
   "metadata": {},
   "outputs": [],
   "source": [
    "data"
   ]
  },
  {
   "cell_type": "code",
   "execution_count": null,
   "id": "10adfdb3",
   "metadata": {},
   "outputs": [],
   "source": [
    "hits = data.get(\"hits\", {}).get(\"hits\", [])"
   ]
  },
  {
   "cell_type": "code",
   "execution_count": null,
   "id": "e220dc57",
   "metadata": {},
   "outputs": [],
   "source": [
    "hits[0]['_source']"
   ]
  },
  {
   "cell_type": "code",
   "execution_count": null,
   "id": "2ea2de30",
   "metadata": {},
   "outputs": [],
   "source": [
    "import requests\n",
    "import json\n",
    "import pandas as pd\n",
    "import concurrent.futures\n",
    "from time import sleep\n",
    "from tqdm import tqdm\n",
    "\n",
    "API_KEY = \"cDZHYzlZa0JadVREZDJCendQbXY6SkJlTzNjLV9TRENyQk1RdnFKZGRQdw==\"\n",
    "url = \"https://api-publica.datajud.cnj.jus.br/api_publica_tjsp/_search\"\n",
    "headers = {\n",
    "    'Authorization': f'ApiKey {API_KEY}',\n",
    "    'Content-Type': 'application/json'\n",
    "}\n",
    "\n",
    "def consultar_processo(numero):\n",
    "    payload = json.dumps({\n",
    "        \"query\": {\n",
    "            \"match\": {\n",
    "                \"numeroProcesso\": numero\n",
    "            }\n",
    "        }\n",
    "    })\n",
    "\n",
    "    try:\n",
    "        response = requests.post(url, headers=headers, data=payload, timeout=30)\n",
    "        response.raise_for_status()\n",
    "        data = response.json()\n",
    "\n",
    "        resultados = []\n",
    "        for hit in data.get(\"hits\", {}).get(\"hits\", []):\n",
    "            registro = hit[\"_source\"]\n",
    "            registro[\"_id\"] = hit.get(\"_id\")\n",
    "            resultados.append(registro)\n",
    "\n",
    "        return resultados\n",
    "\n",
    "    except Exception as e:\n",
    "        print(f\"❌ Erro no processo {numero}: {e}\")\n",
    "        return []\n",
    "\n",
    "def processar_em_lotes(lista, max_threads=5):\n",
    "    todos_resultados = []\n",
    "    with concurrent.futures.ThreadPoolExecutor(max_workers=max_threads) as executor:\n",
    "        futures = {executor.submit(consultar_processo, numero): numero for numero in lista}\n",
    "\n",
    "        for future in tqdm(concurrent.futures.as_completed(futures), total=len(futures)):\n",
    "            resultado = future.result()\n",
    "            todos_resultados.extend(resultado)\n",
    "            sleep(0.1)  \n",
    "\n",
    "    return todos_resultados\n"
   ]
  },
  {
   "cell_type": "code",
   "execution_count": null,
   "id": "b86c9ee8",
   "metadata": {},
   "outputs": [],
   "source": [
    "import pandas as pd\n",
    "\n",
    "parquet = pd.read_parquet('./app10/dados-processos/tjsp_processos.parquet')"
   ]
  },
  {
   "cell_type": "markdown",
   "id": "61c74104",
   "metadata": {},
   "source": [
    "#### TESTES CONSULTA INDIVIDUAL\n",
    "\n",
    "[VOLTAR AO SUMÁRIO](#sumário)"
   ]
  },
  {
   "cell_type": "code",
   "execution_count": null,
   "id": "b04ecf60",
   "metadata": {},
   "outputs": [],
   "source": [
    "import requests\n",
    "import json\n",
    "import pandas as pd\n",
    "import concurrent.futures\n",
    "from time import sleep\n",
    "from tqdm import tqdm\n",
    "\n",
    "API_KEY = \"cDZHYzlZa0JadVREZDJCendQbXY6SkJlTzNjLV9TRENyQk1RdnFKZGRQdw==\"\n",
    "url = \"https://api-publica.datajud.cnj.jus.br/api_publica_tjsp/_search\"\n",
    "headers = {\n",
    "    'Authorization': f'ApiKey {API_KEY}',\n",
    "    'Content-Type': 'application/json'\n",
    "}\n",
    "\n",
    "def consultar_processo(numero):\n",
    "    payload = json.dumps({\n",
    "        \"query\": {\n",
    "            \"match\": {\n",
    "                \"numeroProcesso\": numero\n",
    "            }\n",
    "        }\n",
    "    })\n",
    "\n",
    "    try:\n",
    "        response = requests.post(url, headers=headers, data=payload, timeout=30)\n",
    "        response.raise_for_status()\n",
    "        data = response.json()\n",
    "\n",
    "        resultados = []\n",
    "        for hit in data.get(\"hits\", {}).get(\"hits\", []):\n",
    "            registro = hit[\"_source\"]\n",
    "            registro[\"_id\"] = hit.get(\"_id\")\n",
    "            resultados.append(registro)\n",
    "\n",
    "        return resultados\n",
    "\n",
    "    except Exception as e:\n",
    "        print(f\"❌ Erro no processo {numero}: {e}\")\n",
    "        return []\n",
    "\n",
    "def processar_em_lotes(lista, max_threads=5):\n",
    "    todos_resultados = []\n",
    "    with concurrent.futures.ThreadPoolExecutor(max_workers=max_threads) as executor:\n",
    "        futures = {executor.submit(consultar_processo, numero): numero for numero in lista}\n",
    "\n",
    "        for future in tqdm(concurrent.futures.as_completed(futures), total=len(futures)):\n",
    "            resultado = future.result()\n",
    "            todos_resultados.extend(resultado)\n",
    "            sleep(0.1)  \n",
    "\n",
    "    return todos_resultados\n"
   ]
  },
  {
   "cell_type": "code",
   "execution_count": null,
   "id": "31c2ee6a",
   "metadata": {},
   "outputs": [],
   "source": [
    "import pandas as pd\n",
    "\n",
    "df = pd.DataFrame(consultar_processo('10203815120248260008'))[['dataHoraUltimaAtualizacao']]\n"
   ]
  },
  {
   "cell_type": "code",
   "execution_count": null,
   "id": "d3fea660",
   "metadata": {},
   "outputs": [],
   "source": [
    "df"
   ]
  },
  {
   "cell_type": "code",
   "execution_count": null,
   "id": "15b8a57c",
   "metadata": {},
   "outputs": [],
   "source": [
    "\n",
    "df[\"safra\"] = pd.to_datetime(df[\"dataHoraUltimaAtualizacao\"]).dt.strftime(\"%Y%m%d\")\n",
    "\n",
    "df"
   ]
  },
  {
   "cell_type": "code",
   "execution_count": null,
   "id": "769f9efb",
   "metadata": {},
   "outputs": [],
   "source": [
    "resultado = consultar_processo('10019441420248260411')\n",
    "pd.DataFrame(resultado)"
   ]
  },
  {
   "cell_type": "code",
   "execution_count": null,
   "id": "a6397a5f",
   "metadata": {},
   "outputs": [],
   "source": [
    "consulta = consultar_processo(\"07809163020078260100\")\n",
    "\n",
    "pd.DataFrame(consulta)"
   ]
  },
  {
   "cell_type": "markdown",
   "id": "167a5c7d",
   "metadata": {},
   "source": [
    "#### AMOSTRA PARA TESTE NO STREAMLIT"
   ]
  },
  {
   "cell_type": "code",
   "execution_count": null,
   "id": "911edc18",
   "metadata": {},
   "outputs": [],
   "source": [
    "import pandas as pd\n",
    "data_csv = pd.read_csv('./app7/dados-agrupados/TJSP_CPL_15anos.csv', sep=';')\n",
    "\n",
    "data_csv.shape"
   ]
  },
  {
   "cell_type": "code",
   "execution_count": null,
   "id": "2ba92467",
   "metadata": {},
   "outputs": [],
   "source": [
    "data_csv.to_parquet('./app7/dados-agrupados/parquet_teste.parquet')"
   ]
  },
  {
   "cell_type": "markdown",
   "id": "080f4b61",
   "metadata": {},
   "source": [
    "#### RODAR STREAMLIT E GERAR O ARQUIVO .parquet"
   ]
  },
  {
   "cell_type": "code",
   "execution_count": null,
   "id": "0400bee8",
   "metadata": {},
   "outputs": [],
   "source": [
    "import pandas as pd\n",
    "\n",
    "teste_api = pd.read_parquet('./app7/resultados_api_teste/resultados_api_teste.parquet')"
   ]
  },
  {
   "cell_type": "code",
   "execution_count": null,
   "id": "86134d48",
   "metadata": {},
   "outputs": [],
   "source": [
    "teste_api.head(3)"
   ]
  },
  {
   "cell_type": "code",
   "execution_count": null,
   "id": "141ceb22",
   "metadata": {},
   "outputs": [],
   "source": [
    "n_encontrado = consultar_processo(\"10017779420248260411\")\n",
    "n_encontrado"
   ]
  },
  {
   "cell_type": "code",
   "execution_count": null,
   "id": "28f44a35",
   "metadata": {},
   "outputs": [],
   "source": [
    "n_encontrado2 = consultar_processo(\"15019178020248260408\")\n",
    "\n",
    "n_encontrado2"
   ]
  },
  {
   "cell_type": "code",
   "execution_count": null,
   "id": "969a7225",
   "metadata": {},
   "outputs": [],
   "source": [
    "pd.DataFrame(consultar_processo(\"15020806020248260408\"))"
   ]
  },
  {
   "cell_type": "code",
   "execution_count": null,
   "id": "e6e8c367",
   "metadata": {},
   "outputs": [],
   "source": [
    "import pandas as pd\n",
    "import pprint\n",
    "\n",
    "df = pd.read_parquet('./app10/resultado-api/lotes/lote_001.parquet')\n",
    "\n"
   ]
  },
  {
   "cell_type": "markdown",
   "id": "ff60ee84",
   "metadata": {},
   "source": [
    "#### PROCESSOS PENDENTES"
   ]
  },
  {
   "cell_type": "code",
   "execution_count": null,
   "id": "b066867d",
   "metadata": {},
   "outputs": [],
   "source": [
    "proc_pendentes = pd.read_csv('./app7/dados-agrupados/TJSP_CPL.csv', sep=';')"
   ]
  },
  {
   "cell_type": "markdown",
   "id": "ff4719da",
   "metadata": {},
   "source": [
    "#### PROCESSOS +15 ANOS PENDENTES"
   ]
  },
  {
   "cell_type": "code",
   "execution_count": null,
   "id": "2c9c1a59",
   "metadata": {},
   "outputs": [],
   "source": [
    "proc_pendentes_15 = pd.read_csv('./app7/dados-agrupados/TJSP_CPL_15anos.csv', sep=';')"
   ]
  },
  {
   "cell_type": "markdown",
   "id": "ced54563",
   "metadata": {},
   "source": [
    "#### PROCESSOS JULGADOS"
   ]
  },
  {
   "cell_type": "code",
   "execution_count": null,
   "id": "f777ea4f",
   "metadata": {},
   "outputs": [],
   "source": [
    "proc_julgados = pd.read_csv('./app7/dados-agrupados/TJSP_Sent.csv', sep=';')"
   ]
  },
  {
   "cell_type": "markdown",
   "id": "ce914f34",
   "metadata": {},
   "source": [
    "#### PROCESSOS BAIXADOS"
   ]
  },
  {
   "cell_type": "code",
   "execution_count": null,
   "id": "c2b6d71f",
   "metadata": {},
   "outputs": [],
   "source": [
    "proc_baixados = pd.read_csv('./app7/dados-agrupados/TJSP_TBaix.csv', sep=';')"
   ]
  },
  {
   "cell_type": "markdown",
   "id": "0bedef59",
   "metadata": {},
   "source": [
    "#### DADOS CORREGEDORIA"
   ]
  },
  {
   "cell_type": "code",
   "execution_count": null,
   "id": "1cb9922f",
   "metadata": {},
   "outputs": [],
   "source": [
    "import pandas as pd\n",
    "# corregedoria = pd.read_csv('./app7/dados-agrupados/TJSP_tbl_correg.csv', sep=';')\n",
    "\n",
    "data_csv = pd.read_csv('./app7/dados-agrupados/TJSP_CPL_15anos.csv', sep=';')\n"
   ]
  },
  {
   "cell_type": "code",
   "execution_count": null,
   "id": "b78ed285",
   "metadata": {},
   "outputs": [],
   "source": [
    "\n"
   ]
  },
  {
   "cell_type": "code",
   "execution_count": null,
   "id": "6d1bf034",
   "metadata": {},
   "outputs": [],
   "source": [
    "import requests\n",
    "import json\n",
    "import pandas as pd\n",
    "from time import sleep\n",
    "\n",
    "url = \"https://api-publica.datajud.cnj.jus.br/api_publica_tjsp/_search\"\n",
    "\n",
    "# Headers fixos\n",
    "headers = {\n",
    "    'Authorization': 'ApiKey cDZHYzlZa0JadVREZDJCendQbXY6SkJlTzNjLV9TRENyQk1RdnFKZGRQdw==',\n",
    "    'Content-Type': 'application/json'\n",
    "}\n",
    "\n",
    "todos_resultados = []\n",
    "\n",
    "for numero in lista_novos[:100]:\n",
    "    payload = json.dumps({\n",
    "        \"query\": {\n",
    "            \"match\": {\n",
    "                \"numeroProcesso\": numero\n",
    "            }\n",
    "        }\n",
    "    })\n",
    "\n",
    "    try:\n",
    "        response = requests.post(url, headers=headers, data=payload)\n",
    "        response.raise_for_status()\n",
    "\n",
    "        data = response.json()\n",
    "\n",
    "        hits = data.get(\"hits\", {}).get(\"hits\", [])\n",
    "\n",
    "        for hit in hits:\n",
    "            registro = hit[\"_source\"]\n",
    "            registro[\"_id\"] = hit.get(\"_id\")  # adiciona id opcionalmente\n",
    "            registro[\"numeroConsultado\"] = numero  # adiciona o número original consultado\n",
    "            todos_resultados.append(registro)\n",
    "\n",
    "        print(f\"✅ Sucesso: {numero} | Documentos encontrados: {len(hits)}\")\n",
    "\n",
    "    except Exception as e:\n",
    "        print(f\"❌ Erro no processo {numero}: {e}\")\n",
    "        continue\n",
    "\n",
    "    sleep(1)  # intervalo para evitar sobrecarga na API\n",
    "\n",
    "df_final = pd.DataFrame(todos_resultados)\n"
   ]
  },
  {
   "cell_type": "code",
   "execution_count": null,
   "id": "eea810c1",
   "metadata": {},
   "outputs": [],
   "source": [
    "resultados = processar_em_lotes(lista_novos[:100], max_threads=5)\n",
    "\n",
    "df_final = pd.DataFrame(resultados)\n",
    "print(f\"\\n✅ Consulta finalizada. Total de registros: {len(df_final)}\")\n",
    "\n",
    "# df_final.to_parquet(\"datajud_resultados.parquet\", index=False)"
   ]
  },
  {
   "cell_type": "code",
   "execution_count": null,
   "id": "61b1465e",
   "metadata": {},
   "outputs": [],
   "source": [
    "from tqdm import tqdm\n",
    "import requests\n",
    "import json\n",
    "import pandas as pd\n",
    "from time import time\n",
    "from concurrent.futures import ThreadPoolExecutor, as_completed\n",
    "\n",
    "def consultar_processo(numero, url, headers):\n",
    "    payload = json.dumps({\n",
    "        \"query\": {\n",
    "            \"match\": {\n",
    "                \"numeroProcesso\": numero\n",
    "            }\n",
    "        }\n",
    "    })\n",
    "\n",
    "    try:\n",
    "        response = requests.post(url, headers=headers, data=payload)\n",
    "        response.raise_for_status()\n",
    "        data = response.json()\n",
    "\n",
    "        hits = data.get(\"hits\", {}).get(\"hits\", [])\n",
    "\n",
    "        registros = []\n",
    "        for hit in hits:\n",
    "            registro = hit[\"_source\"]\n",
    "            registro[\"_id\"] = hit.get(\"_id\")\n",
    "            registro[\"numeroConsultado\"] = numero\n",
    "            registros.append(registro)\n",
    "\n",
    "        return (numero, registros, None)\n",
    "\n",
    "    except Exception as e:\n",
    "        return (numero, None, str(e))\n",
    "\n",
    "def consultar_processos_paralelo(lista_novos, max_workers=5):\n",
    "    url = \"https://api-publica.datajud.cnj.jus.br/api_publica_tjsp/_search\"\n",
    "    headers = {\n",
    "        'Authorization': 'ApiKey cDZHYzlZa0JadVREZDJCendQbXY6SkJlTzNjLV9TRENyQk1RdnFKZGRQdw==',\n",
    "        'Content-Type': 'application/json'\n",
    "    }\n",
    "\n",
    "    todos_resultados = []\n",
    "    start_time = time()\n",
    "\n",
    "    with ThreadPoolExecutor(max_workers=max_workers) as executor:\n",
    "        futures = {executor.submit(consultar_processo, numero, url, headers): numero for numero in lista_novos}\n",
    "        for future in tqdm(as_completed(futures), total=len(futures), desc=\"Consultando processos\"):\n",
    "            numero = futures[future]\n",
    "            try:\n",
    "                num, registros, erro = future.result()\n",
    "                if erro:\n",
    "                    tqdm.write(f\"❌ Erro no processo {num}: {erro}\")\n",
    "                else:\n",
    "                    tqdm.write(f\"✅ Sucesso: {num} | Documentos encontrados: {len(registros)}\")\n",
    "                    todos_resultados.extend(registros)\n",
    "            except Exception as e:\n",
    "                tqdm.write(f\"❌ Erro inesperado no processo {numero}: {e}\")\n",
    "\n",
    "    end_time = time()\n",
    "    tqdm.write(f\"\\n✅ Consulta realizada. Tempo total de processamento: {end_time - start_time:.2f} segundos.\")\n",
    "\n",
    "    df_final = pd.DataFrame(todos_resultados)\n",
    "    return df_final\n"
   ]
  }
 ],
 "metadata": {
  "kernelspec": {
   "display_name": "venv",
   "language": "python",
   "name": "python3"
  },
  "language_info": {
   "codemirror_mode": {
    "name": "ipython",
    "version": 3
   },
   "file_extension": ".py",
   "mimetype": "text/x-python",
   "name": "python",
   "nbconvert_exporter": "python",
   "pygments_lexer": "ipython3",
   "version": "3.12.10"
  }
 },
 "nbformat": 4,
 "nbformat_minor": 5
}
